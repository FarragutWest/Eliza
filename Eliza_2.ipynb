{
 "cells": [
  {
   "cell_type": "code",
   "execution_count": 56,
   "metadata": {},
   "outputs": [],
   "source": [
    "def convert(answer):\n",
    "    #conv_elements1=['I','am','my']\n",
    "    #conv_elements2=['You','are','your']\n",
    "    if \"I\" in (answer):\n",
    "        conv_answer=answer.replace(\"I\",\"you\")\n",
    "    elif \"You\" in (answer):\n",
    "        conv_answer=answer.replace(\"you\",\"I\")\n",
    "    elif \"my\" in (answer):\n",
    "        conv_answer=answer.replace(\"my\",\"your\") \n",
    "    elif \"am\" in (answer):\n",
    "        conv_answer=answer.replace(\"am\",\"are\") \n",
    "    else:\n",
    "        conv_answer=str(answer)\n",
    "    return(conv_answer)\n",
    "   \n",
    "        "
   ]
  },
  {
   "cell_type": "code",
   "execution_count": null,
   "metadata": {},
   "outputs": [],
   "source": [
    "print(\"Hello, my name is Eliza.\")\n",
    "while True:\n",
    "    answer=input(\">\")\n",
    "    if answer!=\"Goodbye\":\n",
    "            print(\"why do you say \"+convert(answer))\n",
    "    else:\n",
    "        print(\"Goodbye\")"
   ]
  }
 ],
 "metadata": {
  "kernelspec": {
   "display_name": "Python 3",
   "language": "python",
   "name": "python3"
  },
  "language_info": {
   "codemirror_mode": {
    "name": "ipython",
    "version": 3
   },
   "file_extension": ".py",
   "mimetype": "text/x-python",
   "name": "python",
   "nbconvert_exporter": "python",
   "pygments_lexer": "ipython3",
   "version": "3.7.6"
  }
 },
 "nbformat": 4,
 "nbformat_minor": 4
}
